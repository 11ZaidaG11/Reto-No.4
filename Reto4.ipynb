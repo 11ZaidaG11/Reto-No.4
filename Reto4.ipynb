{
 "cells": [
  {
   "cell_type": "markdown",
   "metadata": {},
   "source": [
    "1. Dado un número entero, determinar si ese número corresponde al código ASCII de una vocal minúscula."
   ]
  },
  {
   "cell_type": "code",
   "execution_count": null,
   "metadata": {},
   "outputs": [],
   "source": [
    "if __name__ == \"__main__\":\n",
    "  numero = int(input(\"Ingrese su codigo ascii: \"))\n",
    "  ascii = chr(numero)\n",
    "  print(f\"El numero {numero} en ASCII es: {ascii}\")\n",
    "\n",
    "  if numero >= 97 and numero <= 122:\n",
    "    print(\"Es una letra minuscula\")\n",
    "  else:\n",
    "    print(\"NO es una letra minuscula\")"
   ]
  },
  {
   "cell_type": "markdown",
   "metadata": {},
   "source": [
    "2. Dada una cadena de longitud 1, determine si el código ASCII de primera letra de la cadena es par o no."
   ]
  },
  {
   "cell_type": "code",
   "execution_count": null,
   "metadata": {},
   "outputs": [],
   "source": [
    "if __name__ == \"__main__\":\n",
    "  caracter = input(\"Ingrese un caracter: \")\n",
    "  ascii = ord(caracter)\n",
    "  print(f\"El codigo ASCII de {caracter} es: {ascii}\")\n",
    "\n",
    "  if ascii % 2 == 0:\n",
    "    print(\"Su codigo ASCII es par\")\n",
    "  else:\n",
    "    print(\"Su codigo ASCII es impar\")"
   ]
  },
  {
   "cell_type": "markdown",
   "metadata": {},
   "source": [
    "3. Dado un carácter, construya un programa en Python para determinar si el carácter es un dígito o no."
   ]
  },
  {
   "cell_type": "code",
   "execution_count": null,
   "metadata": {},
   "outputs": [],
   "source": [
    "if __name__ == \"__main__\":\n",
    "  caracter = input(\"Ingrese un caracter: \")\n",
    "  ascii = ord(caracter)\n",
    "  print(f\"El codigo ASCII de {caracter} es: {ascii}\")\n",
    "  \n",
    "  if ascii <= 9:\n",
    "    print(\"El codigo es un digito\")\n",
    "  else:\n",
    "    print(\"El codigo NO es un digito\")"
   ]
  },
  {
   "cell_type": "markdown",
   "metadata": {},
   "source": [
    "4. Realice un programa que lea dos números reales y determine si el primero es múltiplo del segundo."
   ]
  },
  {
   "cell_type": "code",
   "execution_count": null,
   "metadata": {},
   "outputs": [],
   "source": [
    "if __name__ == \"__main__\":\n",
    "  a = float(input(\"Ingrese un numero: \"))\n",
    "  b = float(input(\"Ingrese otro numero: \"))\n",
    "  multiplo = a%b\n",
    "\n",
    "  if multiplo == 0:\n",
    "    print(f\"{a} es multiplo de {b}\")\n",
    "  else:\n",
    "    print(f\"{a} NO es multiplo de {b}\")"
   ]
  },
  {
   "cell_type": "markdown",
   "metadata": {},
   "source": [
    "5. Dado un número real x, construya un programa que permita determinar si el número es positivo, negativo o cero. Para cada caso de debe imprimir el texto que se especifica a continuación:\n",
    "- Positivo: \"El número x es positivo\"\n",
    "- Negativo: \"El número x es negativo\"\n",
    "- Cero (0): \"El número x es el neutro para la suma\""
   ]
  },
  {
   "cell_type": "code",
   "execution_count": null,
   "metadata": {},
   "outputs": [],
   "source": [
    "if __name__ == \"__main__\":\n",
    "  x = float(input(\"Ingrese un numero: \"))\n",
    "  \n",
    "  if x == 0:\n",
    "    print(f\"El numero {x} es el neutro para la suma\")\n",
    "  elif x > 0:\n",
    "    print(f\"El numero {x} es positivo\")\n",
    "  else:\n",
    "    print(f\"El numero {x} es negativo\")"
   ]
  },
  {
   "cell_type": "markdown",
   "metadata": {},
   "source": [
    "6. Dado el centro y el radio de un círculo, determinar si un punto de R2 pertenece o no al interior del círculo."
   ]
  },
  {
   "cell_type": "code",
   "execution_count": null,
   "metadata": {},
   "outputs": [],
   "source": [
    "if __name__ == \"__main__\":\n",
    "  centro = float(input(\"Ingrese el centro del circulo: \"))\n",
    "  radio = float(input(\"Ingrese el radio del circulo: \"))\n",
    "  punto = float(input(\"Ingrese el punto a evaluar: \"))\n",
    "  punto = punto**2\n",
    "  r1 = centro + radio\n",
    "  r2 = centro - radio\n",
    "\n",
    "  if punto <= r1 and punto >= r2 :\n",
    "    print(\"El punto esta dentro del circulo\")\n",
    "  else:\n",
    "    print(\"El punto no esta dentro del circulo\")"
   ]
  },
  {
   "cell_type": "markdown",
   "metadata": {},
   "source": [
    "7. Dadas tres longitudes positivas, determinar si con esas longitudes se puede construir un triángulo."
   ]
  },
  {
   "cell_type": "code",
   "execution_count": null,
   "metadata": {},
   "outputs": [],
   "source": [
    "if __name__ == \"__main__\":\n",
    "  print(\"Ingrese los valores de los lados del triangulo\")\n",
    "  a = float(input(\"Ingrese el valor del primer lado: \"))\n",
    "  b = float(input(\"Ingrese el valor del segundo b: \"))\n",
    "  c = float(input(\"Ingrese el valor del tercer c: \"))\n",
    "  print()\n",
    "\n",
    "  if a + b > c and b + c > a and c + a > b: \n",
    "    print(\"Es posible construir un triangulo\")\n",
    "  else:\n",
    "    print(\"No es posible construir el triangulo\")"
   ]
  },
  {
   "cell_type": "markdown",
   "metadata": {},
   "source": [
    "8. Escriba un programa que reciba el nombre en minúsculas de un país de America y retorne la ciudad capital, si el país no pertenece al continente debe arrojar país no identificado (Utilice *match-case*)."
   ]
  },
  {
   "cell_type": "code",
   "execution_count": null,
   "metadata": {},
   "outputs": [],
   "source": [
    "if __name__ == \"__main__\":\n",
    "    pais = str(input(\"Ingrese el nombre de un país de América: \"))\n",
    "    pais = pais.lower()\n",
    "    \n",
    "    match pais.lower():\n",
    "        case \"argentina\":\n",
    "            print(\"Buenos Aires\")\n",
    "        case \"bolivia\":\n",
    "            print(\"Sucre\")\n",
    "        case \"brasil\":\n",
    "            print(\"Brasilia\")\n",
    "        case \"chile\":\n",
    "            print(\"Santiago de Chile\")\n",
    "        case \"colombia\":\n",
    "            print(\"Bogotá\")\n",
    "        case \"ecuador\":\n",
    "            print(\"Quito\")\n",
    "        case \"paraguay\":\n",
    "            print(\"Asunción\")\n",
    "        case \"perú\":\n",
    "            print(\"Lima\")\n",
    "        case \"surinam\":\n",
    "            print(\"Paramaribo\")\n",
    "        case \"uruguay\":\n",
    "            print(\"Montevideo\")\n",
    "        case \"venezuela\":\n",
    "            print(\"Caracas\")\n",
    "        case \"estados unidos\":\n",
    "            print(\"Washington DC\")\n",
    "        case \"canadá\":\n",
    "            print(\"Ottawa\")\n",
    "        case \"méxico\":\n",
    "            print(\"Ciudad de México\")\n",
    "        case _:\n",
    "            print(\"País no identificado\")\n"
   ]
  }
 ],
 "metadata": {
  "kernelspec": {
   "display_name": "Python 3",
   "language": "python",
   "name": "python3"
  },
  "language_info": {
   "codemirror_mode": {
    "name": "ipython",
    "version": 3
   },
   "file_extension": ".py",
   "mimetype": "text/x-python",
   "name": "python",
   "nbconvert_exporter": "python",
   "pygments_lexer": "ipython3",
   "version": "3.11.9"
  }
 },
 "nbformat": 4,
 "nbformat_minor": 2
}
